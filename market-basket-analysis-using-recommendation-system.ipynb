{
 "cells": [
  {
   "cell_type": "markdown",
   "id": "6d889f0f",
   "metadata": {},
   "source": [
    "# Optimization of Product Merchandising and Sales Enhancement through Recommendation Systems Using Collaborative Filtering\n",
    "Name: Md Tauhidul Islam\n",
    "\n",
    "ID: a1895813"
   ]
  },
  {
   "cell_type": "markdown",
   "id": "bc1b0f18",
   "metadata": {},
   "source": [
    "### 1. Importing required libraries"
   ]
  },
  {
   "cell_type": "code",
   "execution_count": 1,
   "id": "856b45b7",
   "metadata": {},
   "outputs": [],
   "source": [
    "import warnings\n",
    "warnings.filterwarnings('ignore')\n",
    "import numpy as np\n",
    "import pandas as pd\n",
    "import seaborn as sns\n",
    "import matplotlib.pyplot as plt\n",
    "from math import sqrt\n",
    "from sklearn.metrics import mean_squared_error\n",
    "from sklearn.metrics.pairwise import cosine_similarity\n",
    "from sklearn.metrics import mean_squared_error\n",
    "from scipy.sparse import csr_matrix"
   ]
  },
  {
   "cell_type": "markdown",
   "id": "bf2866d6",
   "metadata": {},
   "source": [
    "### 2. Loading the traning data"
   ]
  },
  {
   "cell_type": "code",
   "execution_count": 2,
   "id": "fbdbdc93",
   "metadata": {
    "scrolled": false
   },
   "outputs": [
    {
     "data": {
      "text/html": [
       "<div>\n",
       "<style scoped>\n",
       "    .dataframe tbody tr th:only-of-type {\n",
       "        vertical-align: middle;\n",
       "    }\n",
       "\n",
       "    .dataframe tbody tr th {\n",
       "        vertical-align: top;\n",
       "    }\n",
       "\n",
       "    .dataframe thead th {\n",
       "        text-align: right;\n",
       "    }\n",
       "</style>\n",
       "<table border=\"1\" class=\"dataframe\">\n",
       "  <thead>\n",
       "    <tr style=\"text-align: right;\">\n",
       "      <th></th>\n",
       "      <th>BillNo</th>\n",
       "      <th>Itemname</th>\n",
       "      <th>Quantity</th>\n",
       "      <th>Date</th>\n",
       "      <th>Price</th>\n",
       "      <th>CustomerID</th>\n",
       "      <th>cost</th>\n",
       "    </tr>\n",
       "  </thead>\n",
       "  <tbody>\n",
       "    <tr>\n",
       "      <th>0</th>\n",
       "      <td>536365</td>\n",
       "      <td>KNITTED UNION FLAG HOT WATER BOTTLE</td>\n",
       "      <td>6</td>\n",
       "      <td>1/12/2010 8:26</td>\n",
       "      <td>3.39</td>\n",
       "      <td>17850</td>\n",
       "      <td>20.34</td>\n",
       "    </tr>\n",
       "    <tr>\n",
       "      <th>1</th>\n",
       "      <td>536365</td>\n",
       "      <td>GLASS STAR FROSTED T-LIGHT HOLDER</td>\n",
       "      <td>6</td>\n",
       "      <td>1/12/2010 8:26</td>\n",
       "      <td>4.25</td>\n",
       "      <td>17850</td>\n",
       "      <td>25.50</td>\n",
       "    </tr>\n",
       "    <tr>\n",
       "      <th>2</th>\n",
       "      <td>536365</td>\n",
       "      <td>WHITE HANGING HEART T-LIGHT HOLDER</td>\n",
       "      <td>6</td>\n",
       "      <td>1/12/2010 8:26</td>\n",
       "      <td>2.55</td>\n",
       "      <td>17850</td>\n",
       "      <td>15.30</td>\n",
       "    </tr>\n",
       "    <tr>\n",
       "      <th>3</th>\n",
       "      <td>536365</td>\n",
       "      <td>RED WOOLLY HOTTIE WHITE HEART.</td>\n",
       "      <td>6</td>\n",
       "      <td>1/12/2010 8:26</td>\n",
       "      <td>3.39</td>\n",
       "      <td>17850</td>\n",
       "      <td>20.34</td>\n",
       "    </tr>\n",
       "    <tr>\n",
       "      <th>4</th>\n",
       "      <td>536365</td>\n",
       "      <td>SET 7 BABUSHKA NESTING BOXES</td>\n",
       "      <td>2</td>\n",
       "      <td>1/12/2010 8:26</td>\n",
       "      <td>7.65</td>\n",
       "      <td>17850</td>\n",
       "      <td>15.30</td>\n",
       "    </tr>\n",
       "  </tbody>\n",
       "</table>\n",
       "</div>"
      ],
      "text/plain": [
       "   BillNo                             Itemname  Quantity            Date  \\\n",
       "0  536365  KNITTED UNION FLAG HOT WATER BOTTLE         6  1/12/2010 8:26   \n",
       "1  536365    GLASS STAR FROSTED T-LIGHT HOLDER         6  1/12/2010 8:26   \n",
       "2  536365   WHITE HANGING HEART T-LIGHT HOLDER         6  1/12/2010 8:26   \n",
       "3  536365       RED WOOLLY HOTTIE WHITE HEART.         6  1/12/2010 8:26   \n",
       "4  536365         SET 7 BABUSHKA NESTING BOXES         2  1/12/2010 8:26   \n",
       "\n",
       "   Price  CustomerID   cost  \n",
       "0   3.39       17850  20.34  \n",
       "1   4.25       17850  25.50  \n",
       "2   2.55       17850  15.30  \n",
       "3   3.39       17850  20.34  \n",
       "4   7.65       17850  15.30  "
      ]
     },
     "execution_count": 2,
     "metadata": {},
     "output_type": "execute_result"
    }
   ],
   "source": [
    "# Load the training dataset\n",
    "data = pd.read_csv('./data/basket_data_by_date_train.csv')\n",
    "\n",
    "# Display the first few rows to understand its structure\n",
    "data.head()"
   ]
  },
  {
   "cell_type": "code",
   "execution_count": 3,
   "id": "f5c2c39b",
   "metadata": {},
   "outputs": [
    {
     "name": "stdout",
     "output_type": "stream",
     "text": [
      "<class 'pandas.core.frame.DataFrame'>\n",
      "RangeIndex: 40000 entries, 0 to 39999\n",
      "Data columns (total 7 columns):\n",
      " #   Column      Non-Null Count  Dtype  \n",
      "---  ------      --------------  -----  \n",
      " 0   BillNo      40000 non-null  int64  \n",
      " 1   Itemname    40000 non-null  object \n",
      " 2   Quantity    40000 non-null  int64  \n",
      " 3   Date        40000 non-null  object \n",
      " 4   Price       40000 non-null  float64\n",
      " 5   CustomerID  40000 non-null  int64  \n",
      " 6   cost        40000 non-null  float64\n",
      "dtypes: float64(2), int64(3), object(2)\n",
      "memory usage: 2.1+ MB\n"
     ]
    },
    {
     "data": {
      "text/plain": [
       "(40000, 7)"
      ]
     },
     "execution_count": 3,
     "metadata": {},
     "output_type": "execute_result"
    }
   ],
   "source": [
    "# Display basic info\n",
    "data.info()\n",
    "data.shape"
   ]
  },
  {
   "cell_type": "code",
   "execution_count": 4,
   "id": "9c9ff09c",
   "metadata": {
    "scrolled": true
   },
   "outputs": [
    {
     "name": "stdout",
     "output_type": "stream",
     "text": [
      "              BillNo      Quantity         Price    CustomerID          cost\n",
      "count   40000.000000  40000.000000  40000.000000  40000.000000  40000.000000\n",
      "mean   540254.879225      3.487700      3.732165  15577.606525     11.097411\n",
      "std      2380.444952      2.611766      5.711630   1730.347123     13.298301\n",
      "min    536365.000000      1.000000      0.100000  12347.000000      0.140000\n",
      "25%    538093.000000      1.000000      1.650000  14224.000000      3.300000\n",
      "50%    540373.000000      2.000000      2.950000  15570.000000      7.950000\n",
      "75%    542360.000000      6.000000      4.650000  17220.000000     15.800000\n",
      "max    544398.000000     10.000000    295.000000  18283.000000    527.700000\n"
     ]
    }
   ],
   "source": [
    "# Summary statistics for numeric columns\n",
    "print(data.describe())"
   ]
  },
  {
   "cell_type": "markdown",
   "id": "a7879979",
   "metadata": {},
   "source": [
    "### 3. Data pre-processing"
   ]
  },
  {
   "cell_type": "markdown",
   "id": "e09ed1af",
   "metadata": {},
   "source": [
    "* 3.1 Convert 'Date' to datetime"
   ]
  },
  {
   "cell_type": "code",
   "execution_count": 5,
   "id": "281b57a6",
   "metadata": {},
   "outputs": [],
   "source": [
    "data['Date'] = pd.to_datetime(data['Date'])"
   ]
  },
  {
   "cell_type": "code",
   "execution_count": 6,
   "id": "a0bd5759",
   "metadata": {
    "scrolled": false
   },
   "outputs": [
    {
     "data": {
      "text/html": [
       "<div>\n",
       "<style scoped>\n",
       "    .dataframe tbody tr th:only-of-type {\n",
       "        vertical-align: middle;\n",
       "    }\n",
       "\n",
       "    .dataframe tbody tr th {\n",
       "        vertical-align: top;\n",
       "    }\n",
       "\n",
       "    .dataframe thead th {\n",
       "        text-align: right;\n",
       "    }\n",
       "</style>\n",
       "<table border=\"1\" class=\"dataframe\">\n",
       "  <thead>\n",
       "    <tr style=\"text-align: right;\">\n",
       "      <th></th>\n",
       "      <th>BillNo</th>\n",
       "      <th>Itemname</th>\n",
       "      <th>Quantity</th>\n",
       "      <th>Date</th>\n",
       "      <th>Price</th>\n",
       "      <th>CustomerID</th>\n",
       "      <th>cost</th>\n",
       "    </tr>\n",
       "  </thead>\n",
       "  <tbody>\n",
       "    <tr>\n",
       "      <th>0</th>\n",
       "      <td>536365</td>\n",
       "      <td>KNITTED UNION FLAG HOT WATER BOTTLE</td>\n",
       "      <td>6</td>\n",
       "      <td>2010-01-12 08:26:00</td>\n",
       "      <td>3.39</td>\n",
       "      <td>17850</td>\n",
       "      <td>20.34</td>\n",
       "    </tr>\n",
       "    <tr>\n",
       "      <th>1</th>\n",
       "      <td>536365</td>\n",
       "      <td>GLASS STAR FROSTED T-LIGHT HOLDER</td>\n",
       "      <td>6</td>\n",
       "      <td>2010-01-12 08:26:00</td>\n",
       "      <td>4.25</td>\n",
       "      <td>17850</td>\n",
       "      <td>25.50</td>\n",
       "    </tr>\n",
       "    <tr>\n",
       "      <th>2</th>\n",
       "      <td>536365</td>\n",
       "      <td>WHITE HANGING HEART T-LIGHT HOLDER</td>\n",
       "      <td>6</td>\n",
       "      <td>2010-01-12 08:26:00</td>\n",
       "      <td>2.55</td>\n",
       "      <td>17850</td>\n",
       "      <td>15.30</td>\n",
       "    </tr>\n",
       "    <tr>\n",
       "      <th>3</th>\n",
       "      <td>536365</td>\n",
       "      <td>RED WOOLLY HOTTIE WHITE HEART.</td>\n",
       "      <td>6</td>\n",
       "      <td>2010-01-12 08:26:00</td>\n",
       "      <td>3.39</td>\n",
       "      <td>17850</td>\n",
       "      <td>20.34</td>\n",
       "    </tr>\n",
       "    <tr>\n",
       "      <th>4</th>\n",
       "      <td>536365</td>\n",
       "      <td>SET 7 BABUSHKA NESTING BOXES</td>\n",
       "      <td>2</td>\n",
       "      <td>2010-01-12 08:26:00</td>\n",
       "      <td>7.65</td>\n",
       "      <td>17850</td>\n",
       "      <td>15.30</td>\n",
       "    </tr>\n",
       "  </tbody>\n",
       "</table>\n",
       "</div>"
      ],
      "text/plain": [
       "   BillNo                             Itemname  Quantity                Date  \\\n",
       "0  536365  KNITTED UNION FLAG HOT WATER BOTTLE         6 2010-01-12 08:26:00   \n",
       "1  536365    GLASS STAR FROSTED T-LIGHT HOLDER         6 2010-01-12 08:26:00   \n",
       "2  536365   WHITE HANGING HEART T-LIGHT HOLDER         6 2010-01-12 08:26:00   \n",
       "3  536365       RED WOOLLY HOTTIE WHITE HEART.         6 2010-01-12 08:26:00   \n",
       "4  536365         SET 7 BABUSHKA NESTING BOXES         2 2010-01-12 08:26:00   \n",
       "\n",
       "   Price  CustomerID   cost  \n",
       "0   3.39       17850  20.34  \n",
       "1   4.25       17850  25.50  \n",
       "2   2.55       17850  15.30  \n",
       "3   3.39       17850  20.34  \n",
       "4   7.65       17850  15.30  "
      ]
     },
     "execution_count": 6,
     "metadata": {},
     "output_type": "execute_result"
    }
   ],
   "source": [
    "data.head()"
   ]
  },
  {
   "cell_type": "markdown",
   "id": "7fc53fdb",
   "metadata": {},
   "source": [
    "* 3.2 Finding and removing duplicate data"
   ]
  },
  {
   "cell_type": "code",
   "execution_count": 7,
   "id": "57abf39f",
   "metadata": {},
   "outputs": [
    {
     "data": {
      "text/plain": [
       "797"
      ]
     },
     "execution_count": 7,
     "metadata": {},
     "output_type": "execute_result"
    }
   ],
   "source": [
    "data.duplicated().sum()"
   ]
  },
  {
   "cell_type": "code",
   "execution_count": 8,
   "id": "b40b3bb1",
   "metadata": {},
   "outputs": [],
   "source": [
    "#Let's remove the duplicate data\n",
    "data = data.drop_duplicates()"
   ]
  },
  {
   "cell_type": "markdown",
   "id": "59551701",
   "metadata": {},
   "source": [
    "* 3.3 Removing sparse data (users or items with very few interactions) "
   ]
  },
  {
   "cell_type": "code",
   "execution_count": 9,
   "id": "7edb1f6e",
   "metadata": {},
   "outputs": [
    {
     "name": "stdout",
     "output_type": "stream",
     "text": [
      "Initial data shape: (39203, 7)\n",
      "\n",
      "Filtered data shape: (33502, 7)\n"
     ]
    }
   ],
   "source": [
    "# Let's check shape of the original data\n",
    "print(\"Initial data shape:\", data.shape)\n",
    "\n",
    "# Calculating the number of interactions per user and per item\n",
    "user_interactions = data['CustomerID'].value_counts()\n",
    "item_interactions = data['Itemname'].value_counts()\n",
    "\n",
    "# Defining a threshold for minimum interactions\n",
    "min_user_interactions = 5\n",
    "min_item_interactions = 10\n",
    "\n",
    "# Filtering users and items that have fewer than the minimum interactions\n",
    "users_to_keep = user_interactions[user_interactions >= min_user_interactions].index\n",
    "items_to_keep = item_interactions[item_interactions >= min_item_interactions].index\n",
    "\n",
    "# Filtering the data based on users and items to keep\n",
    "filtered_data = data[data['CustomerID'].isin(users_to_keep) & data['Itemname'].isin(items_to_keep)]\n",
    "\n",
    "# Overview of the filtered data\n",
    "print()\n",
    "print(\"Filtered data shape:\", filtered_data.shape)"
   ]
  },
  {
   "cell_type": "code",
   "execution_count": 10,
   "id": "de4a13e5",
   "metadata": {
    "scrolled": false
   },
   "outputs": [
    {
     "name": "stdout",
     "output_type": "stream",
     "text": [
      "<class 'pandas.core.frame.DataFrame'>\n",
      "Int64Index: 33502 entries, 0 to 39999\n",
      "Data columns (total 7 columns):\n",
      " #   Column      Non-Null Count  Dtype         \n",
      "---  ------      --------------  -----         \n",
      " 0   BillNo      33502 non-null  int64         \n",
      " 1   Itemname    33502 non-null  object        \n",
      " 2   Quantity    33502 non-null  int64         \n",
      " 3   Date        33502 non-null  datetime64[ns]\n",
      " 4   Price       33502 non-null  float64       \n",
      " 5   CustomerID  33502 non-null  int64         \n",
      " 6   cost        33502 non-null  float64       \n",
      "dtypes: datetime64[ns](1), float64(2), int64(3), object(1)\n",
      "memory usage: 2.0+ MB\n"
     ]
    }
   ],
   "source": [
    "# Now let's check the basic info again\n",
    "filtered_data.info()"
   ]
  },
  {
   "cell_type": "markdown",
   "id": "eef70c71",
   "metadata": {},
   "source": [
    "### 4. Data Visualisation"
   ]
  },
  {
   "cell_type": "code",
   "execution_count": 11,
   "id": "260b8857",
   "metadata": {
    "scrolled": true
   },
   "outputs": [
    {
     "data": {
      "image/png": "[encoded data removed]",
      "text/plain": [
       "<Figure size 1200x600 with 1 Axes>"
      ]
     },
     "metadata": {},
     "output_type": "display_data"
    }
   ],
   "source": [
    "# Transactions over time\n",
    "transactions_over_time = filtered_data['Date'].value_counts().sort_index()\n",
    "plt.figure(figsize=(12, 6))\n",
    "transactions_over_time.plot(kind='line')\n",
    "plt.title('Number of Transactions Over Time')\n",
    "plt.xlabel('Date')\n",
    "plt.xticks(rotation=90)\n",
    "plt.ylabel('Number of Transactions')\n",
    "plt.show()"
   ]
  },
  {
   "cell_type": "code",
   "execution_count": 12,
   "id": "39f88ca6",
   "metadata": {},
   "outputs": [
    {
     "data": {
      "image/png": "[encoded data removed]",
      "text/plain": [
       "<Figure size 1200x600 with 1 Axes>"
      ]
     },
     "metadata": {},
     "output_type": "display_data"
    }
   ],
   "source": [
    "# Plot transactions by day of week\n",
    "filtered_data['DayOfWeek'] = filtered_data['Date'].dt.day_name() \n",
    "# Reference: https://pandas.pydata.org/pandas-docs/stable/reference/api/pandas.Series.dt.day_name.html\n",
    "\n",
    "day_of_week_counts = filtered_data['DayOfWeek'].value_counts()[\n",
    "    ['Monday', 'Tuesday', 'Wednesday', 'Thursday', 'Friday', 'Saturday', 'Sunday']]\n",
    "plt.figure(figsize=(12, 6))\n",
    "day_of_week_counts.plot(kind='bar', color='purple')\n",
    "plt.title('Distribution of Transactions by Day of Week')\n",
    "plt.xlabel('Day of Week')\n",
    "plt.xticks(rotation=90)\n",
    "plt.ylabel('Number of Transactions')\n",
    "plt.show()\n",
    "\n"
   ]
  },
  {
   "cell_type": "code",
   "execution_count": 13,
   "id": "c3db7a03",
   "metadata": {},
   "outputs": [
    {
     "data": {
      "image/png": "[encoded data removed]",
      "text/plain": [
       "<Figure size 1200x600 with 1 Axes>"
      ]
     },
     "metadata": {},
     "output_type": "display_data"
    }
   ],
   "source": [
    "# Top 10 customers by number of transactions\n",
    "top_customers = filtered_data['CustomerID'].value_counts().head(10)\n",
    "plt.figure(figsize=(12, 6))\n",
    "top_customers.plot(kind='bar', color='green')\n",
    "plt.title('Top 10 Customers by Number of Transactions')\n",
    "plt.xlabel('Customer ID')\n",
    "plt.ylabel('Number of Transactions')\n",
    "plt.show()"
   ]
  },
  {
   "cell_type": "code",
   "execution_count": 14,
   "id": "5565d932",
   "metadata": {
    "scrolled": true
   },
   "outputs": [
    {
     "data": {
      "image/png": "[encoded data removed]",
      "text/plain": [
       "<Figure size 1200x600 with 1 Axes>"
      ]
     },
     "metadata": {},
     "output_type": "display_data"
    }
   ],
   "source": [
    "# Top 10 items sold\n",
    "item_distribution = filtered_data.groupby (\n",
    "    by = 'Itemname').size().reset_index(\n",
    "    name = 'Frequency').sort_values(\n",
    "    by = 'Frequency', ascending = False).head(10)\n",
    "# Reference: https://pandas.pydata.org/pandas-docs/stable/reference/api/pandas.DataFrame.groupby.html\n",
    "\n",
    "bars = item_distribution['Itemname']\n",
    "height = item_distribution['Frequency']\n",
    "x_positions = np.arange(len(bars))\n",
    "# Reference: https://numpy.org/doc/stable/reference/generated/numpy.arange.html\n",
    "\n",
    "plt.figure(figsize = (12, 6))\n",
    "plt.bar(x_positions, height)\n",
    "plt.title(\"Top 10 Sold Items\")\n",
    "plt.xlabel(\"Items\")\n",
    "plt.ylabel(\"Qty\")\n",
    "plt.xticks(x_positions, bars, rotation='vertical')\n",
    "plt.show()"
   ]
  },
  {
   "cell_type": "markdown",
   "id": "cf357ab4",
   "metadata": {},
   "source": [
    "### 5. Recommendation system"
   ]
  },
  {
   "cell_type": "markdown",
   "id": "602baf6e",
   "metadata": {},
   "source": [
    "* 4.1 Recommendation by users"
   ]
  },
  {
   "cell_type": "code",
   "execution_count": 15,
   "id": "526f611f",
   "metadata": {},
   "outputs": [],
   "source": [
    "# Representing the user preferences as a matrix (User-Item)\n",
    "train_user_item_matrix = filtered_data.pivot_table(\n",
    "    index='CustomerID', columns='Itemname', values='Quantity', aggfunc='sum', fill_value=0)\n",
    "# Reference: Wrokshop, https://pandas.pydata.org/docs/reference/api/pandas.pivot_table.html\n",
    "\n",
    "# Converting to sparse matrix format for more efficient computations\n",
    "sparse_user_item = csr_matrix(train_user_item_matrix.values)\n",
    "# Reference: https://docs.scipy.org/doc/scipy/reference/generated/scipy.sparse.csr_matrix.html\n",
    "\n",
    "# Computing Item-Item Similarity\n",
    "# Since we're dealing with a sparse matrix, transposing it will give us item-user matrix for computing cosine similarity\n",
    "item_user_matrix = sparse_user_item.T  # Transposing to get item-user matrix\n",
    "item_similarity = cosine_similarity(item_user_matrix) # Reference: https://scikit-learn.org/stable/modules/generated/sklearn.metrics.pairwise.cosine_similarity.html\n",
    "\n",
    "# Converting item similarity matrix to DataFrame for easier handling\n",
    "item_similarity_df = pd.DataFrame(item_similarity, index=train_user_item_matrix.columns, columns=train_user_item_matrix.columns)\n",
    "\n",
    "# Generating Recommendations\n",
    "def recommend_items_for_customer(user_id, top_n=5):\n",
    "    # Geting the items already bought by the user\n",
    "    purchased_items = train_user_item_matrix.loc[user_id]\n",
    "    purchased_items = purchased_items[purchased_items > 0].index\n",
    "    \n",
    "    # Calculating scores for items based on item-item similarities\n",
    "    scores = item_similarity_df[purchased_items].sum(axis=1)\n",
    "    \n",
    "    # Removing already purchased items from recommendation\n",
    "    scores = scores.drop(purchased_items)\n",
    "    \n",
    "    # Geting top N items with the highest scores\n",
    "    top_items = scores.nlargest(top_n).index.tolist()\n",
    "    return top_items\n",
    "\n",
    "    #Implemented based on learning from myuni workshop 10 "
   ]
  },
  {
   "cell_type": "code",
   "execution_count": 16,
   "id": "b18c0ba1",
   "metadata": {},
   "outputs": [
    {
     "name": "stdout",
     "output_type": "stream",
     "text": [
      "Recommended top 5 items for customer 17841 are:\n",
      "['EDWARDIAN PARASOL NATURAL', 'SET OF 3 HEART COOKIE CUTTERS', 'HOME BUILDING BLOCK WORD', 'LUNCH BAG SPACEBOY DESIGN', 'LUNCH BAG  BLACK SKULL.']\n",
      "\n",
      "Recommended top 5 items for customer 15311 are:\n",
      "['WHITE HANGING HEART T-LIGHT HOLDER', 'JUMBO BAG RED RETROSPOT', 'SET OF 72 PINK HEART PAPER DOILIES', 'HEART OF WICKER SMALL', 'SET OF 3 CAKE TINS PANTRY DESIGN']\n",
      "\n",
      "Recommended top 5 items for customer 12748 are:\n",
      "['SET OF 3 HEART COOKIE CUTTERS', 'PACK OF 72 RETROSPOT CAKE CASES', 'HAND OVER THE CHOCOLATE   SIGN', 'RED HANGING HEART T-LIGHT HOLDER', 'BLUE SPOT CERAMIC DRAWER KNOB']\n",
      "\n",
      "Recommended top 5 items for customer 17850 are:\n",
      "['EDWARDIAN PARASOL NATURAL', 'WOOD BLACK BOARD ANT WHITE FINISH', 'ENGLISH ROSE HOT WATER BOTTLE', 'RETROSPOT HEART HOT WATER BOTTLE', 'CHOCOLATE HOT WATER BOTTLE']\n",
      "\n",
      "Recommended top 5 items for customer 15039 are:\n",
      "['SET OF 3 HEART COOKIE CUTTERS', 'SET/10 RED POLKADOT PARTY CANDLES', 'VICTORIAN SEWING BOX LARGE', 'WOOD 2 DRAWER CABINET WHITE FINISH', 'STRAWBERRY LUNCH BOX WITH CUTLERY']\n",
      "\n"
     ]
    }
   ],
   "source": [
    "# Example usage - Let's see the recommendation for our top 5 customers\n",
    "user_ids_to_check = [17841, 15311, 12748, 17850, 15039]\n",
    "for user_id in user_ids_to_check:\n",
    "    recommended_items = recommend_items_for_customer(user_id, 5)\n",
    "    print(f\"Recommended top 5 items for customer {user_id} are:\\n{recommended_items}\\n\")"
   ]
  },
  {
   "cell_type": "markdown",
   "id": "1dae0298",
   "metadata": {},
   "source": [
    "* 4.2 Recommendation by items"
   ]
  },
  {
   "cell_type": "code",
   "execution_count": 17,
   "id": "edd669d1",
   "metadata": {
    "scrolled": true
   },
   "outputs": [
    {
     "name": "stdout",
     "output_type": "stream",
     "text": [
      "Top 5 recomanded items for WHITE HANGING HEART T-LIGHT HOLDER are:\n"
     ]
    },
    {
     "data": {
      "text/html": [
       "<div>\n",
       "<style scoped>\n",
       "    .dataframe tbody tr th:only-of-type {\n",
       "        vertical-align: middle;\n",
       "    }\n",
       "\n",
       "    .dataframe tbody tr th {\n",
       "        vertical-align: top;\n",
       "    }\n",
       "\n",
       "    .dataframe thead th {\n",
       "        text-align: right;\n",
       "    }\n",
       "</style>\n",
       "<table border=\"1\" class=\"dataframe\">\n",
       "  <thead>\n",
       "    <tr style=\"text-align: right;\">\n",
       "      <th></th>\n",
       "      <th>Itemname</th>\n",
       "      <th>Similarity</th>\n",
       "    </tr>\n",
       "  </thead>\n",
       "  <tbody>\n",
       "    <tr>\n",
       "      <th>0</th>\n",
       "      <td>WOODEN PICTURE FRAME WHITE FINISH</td>\n",
       "      <td>0.691606</td>\n",
       "    </tr>\n",
       "    <tr>\n",
       "      <th>1</th>\n",
       "      <td>HAND WARMER UNION JACK</td>\n",
       "      <td>0.679674</td>\n",
       "    </tr>\n",
       "    <tr>\n",
       "      <th>2</th>\n",
       "      <td>GLASS STAR FROSTED T-LIGHT HOLDER</td>\n",
       "      <td>0.679450</td>\n",
       "    </tr>\n",
       "    <tr>\n",
       "      <th>3</th>\n",
       "      <td>RED WOOLLY HOTTIE WHITE HEART.</td>\n",
       "      <td>0.674411</td>\n",
       "    </tr>\n",
       "    <tr>\n",
       "      <th>4</th>\n",
       "      <td>KNITTED UNION FLAG HOT WATER BOTTLE</td>\n",
       "      <td>0.671572</td>\n",
       "    </tr>\n",
       "  </tbody>\n",
       "</table>\n",
       "</div>"
      ],
      "text/plain": [
       "                              Itemname  Similarity\n",
       "0    WOODEN PICTURE FRAME WHITE FINISH    0.691606\n",
       "1               HAND WARMER UNION JACK    0.679674\n",
       "2    GLASS STAR FROSTED T-LIGHT HOLDER    0.679450\n",
       "3       RED WOOLLY HOTTIE WHITE HEART.    0.674411\n",
       "4  KNITTED UNION FLAG HOT WATER BOTTLE    0.671572"
      ]
     },
     "execution_count": 17,
     "metadata": {},
     "output_type": "execute_result"
    }
   ],
   "source": [
    "def recommend_items_for_item(item_name, top_n=5):\n",
    "    # Geting top N similar items to the item_name\n",
    "    top_similar_items = item_similarity_df[item_name].sort_values(ascending=False)[1:top_n+1].reset_index()\n",
    "    top_similar_items.columns = ['Itemname', 'Similarity']\n",
    "    return top_similar_items\n",
    "\n",
    "# Example usage: Let's see what our it recommends with the most popular item\n",
    "recommended_items_item = recommend_items_for_item('WHITE HANGING HEART T-LIGHT HOLDER', 5)\n",
    "print(\"Top 5 recomanded items for WHITE HANGING HEART T-LIGHT HOLDER are:\")\n",
    "recommended_items_item\n"
   ]
  },
  {
   "cell_type": "markdown",
   "id": "100e9331",
   "metadata": {},
   "source": [
    "### 6. Testing the recommendation system"
   ]
  },
  {
   "cell_type": "code",
   "execution_count": 18,
   "id": "5c4326a5",
   "metadata": {},
   "outputs": [
    {
     "data": {
      "text/html": [
       "<div>\n",
       "<style scoped>\n",
       "    .dataframe tbody tr th:only-of-type {\n",
       "        vertical-align: middle;\n",
       "    }\n",
       "\n",
       "    .dataframe tbody tr th {\n",
       "        vertical-align: top;\n",
       "    }\n",
       "\n",
       "    .dataframe thead th {\n",
       "        text-align: right;\n",
       "    }\n",
       "</style>\n",
       "<table border=\"1\" class=\"dataframe\">\n",
       "  <thead>\n",
       "    <tr style=\"text-align: right;\">\n",
       "      <th></th>\n",
       "      <th>BillNo</th>\n",
       "      <th>Itemname</th>\n",
       "      <th>Quantity</th>\n",
       "      <th>Date</th>\n",
       "      <th>Price</th>\n",
       "      <th>CustomerID</th>\n",
       "      <th>cost</th>\n",
       "    </tr>\n",
       "  </thead>\n",
       "  <tbody>\n",
       "    <tr>\n",
       "      <th>0</th>\n",
       "      <td>544398.0</td>\n",
       "      <td>JUMBO SHOPPER VINTAGE RED PAISLEY</td>\n",
       "      <td>1.0</td>\n",
       "      <td>18/02/2011 12:27</td>\n",
       "      <td>1.95</td>\n",
       "      <td>15311.0</td>\n",
       "      <td>1.95</td>\n",
       "    </tr>\n",
       "    <tr>\n",
       "      <th>1</th>\n",
       "      <td>544398.0</td>\n",
       "      <td>ZINC WILLIE WINKIE  CANDLE STICK</td>\n",
       "      <td>4.0</td>\n",
       "      <td>18/02/2011 12:27</td>\n",
       "      <td>0.85</td>\n",
       "      <td>15311.0</td>\n",
       "      <td>3.40</td>\n",
       "    </tr>\n",
       "    <tr>\n",
       "      <th>2</th>\n",
       "      <td>544398.0</td>\n",
       "      <td>LOVE BUILDING BLOCK WORD</td>\n",
       "      <td>2.0</td>\n",
       "      <td>18/02/2011 12:27</td>\n",
       "      <td>5.95</td>\n",
       "      <td>15311.0</td>\n",
       "      <td>11.90</td>\n",
       "    </tr>\n",
       "    <tr>\n",
       "      <th>3</th>\n",
       "      <td>544398.0</td>\n",
       "      <td>HANGING FAIRY CAKE DECORATION</td>\n",
       "      <td>3.0</td>\n",
       "      <td>18/02/2011 12:27</td>\n",
       "      <td>2.10</td>\n",
       "      <td>15311.0</td>\n",
       "      <td>6.30</td>\n",
       "    </tr>\n",
       "    <tr>\n",
       "      <th>4</th>\n",
       "      <td>544398.0</td>\n",
       "      <td>RED HEART SHAPE LOVE BUCKET</td>\n",
       "      <td>1.0</td>\n",
       "      <td>18/02/2011 12:27</td>\n",
       "      <td>2.95</td>\n",
       "      <td>15311.0</td>\n",
       "      <td>2.95</td>\n",
       "    </tr>\n",
       "  </tbody>\n",
       "</table>\n",
       "</div>"
      ],
      "text/plain": [
       "     BillNo                           Itemname  Quantity              Date  \\\n",
       "0  544398.0  JUMBO SHOPPER VINTAGE RED PAISLEY       1.0  18/02/2011 12:27   \n",
       "1  544398.0   ZINC WILLIE WINKIE  CANDLE STICK       4.0  18/02/2011 12:27   \n",
       "2  544398.0           LOVE BUILDING BLOCK WORD       2.0  18/02/2011 12:27   \n",
       "3  544398.0      HANGING FAIRY CAKE DECORATION       3.0  18/02/2011 12:27   \n",
       "4  544398.0        RED HEART SHAPE LOVE BUCKET       1.0  18/02/2011 12:27   \n",
       "\n",
       "   Price  CustomerID   cost  \n",
       "0   1.95     15311.0   1.95  \n",
       "1   0.85     15311.0   3.40  \n",
       "2   5.95     15311.0  11.90  \n",
       "3   2.10     15311.0   6.30  \n",
       "4   2.95     15311.0   2.95  "
      ]
     },
     "execution_count": 18,
     "metadata": {},
     "output_type": "execute_result"
    }
   ],
   "source": [
    "# Assuming you have a test dataset with actual ratings\n",
    "test_data = pd.read_csv('./data/basket_data_by_date_test.csv')  # Update the path\n",
    "test_data.head()"
   ]
  },
  {
   "cell_type": "code",
   "execution_count": 19,
   "id": "b6ec50a8",
   "metadata": {},
   "outputs": [],
   "source": [
    "# Creating user-item matrix from test data\n",
    "test_user_item_matrix = test_data.pivot_table(\n",
    "    index='CustomerID', columns='Itemname', values='Quantity', aggfunc='sum', fill_value=0)\n",
    "\n",
    "def test_recommendation_system(test_user_item_matrix, train_user_item_matrix, recommend_items_for_customer, top_n=5):\n",
    "    user_ids = test_user_item_matrix.index # Extracting user IDs from the test user-item matrix\n",
    "    users_with_recommedation = 0 # Initializing a counter for users with recommendations\n",
    "    \n",
    "    # Empty lists for evaluation metrics and successful examples\n",
    "    rmse_scores = []\n",
    "    precision_list = []\n",
    "    recall_list = []\n",
    "    successfull_examples = []\n",
    "    \n",
    "\n",
    "    for user_id in user_ids:\n",
    "        # Checking if user_id exists in the training matrix to avoid KeyError\n",
    "        if user_id in train_user_item_matrix.index:\n",
    "            # Geting actual items from the test set\n",
    "            actual_items = test_user_item_matrix.loc[user_id]\n",
    "            actual_items = set(actual_items[actual_items > 0].index)\n",
    "            \n",
    "            # Geting predicted items from the recommendation function\n",
    "            pred_items = recommend_items_for_customer(user_id, top_n)\n",
    "            \n",
    "            # Incrementing the counter if recommendations are available for the user\n",
    "            if pred_items:\n",
    "                users_with_recommedation += 1\n",
    "                \n",
    "            # Finding the intersection of actual and predicted items\n",
    "            matching_pair = actual_items.intersection(set(pred_items))\n",
    "            if matching_pair and len(successfull_examples) < top_n: \n",
    "                # only storing top_n items: preventing storing an excessive number of examples\n",
    "                successfull_examples.append((user_id, list(matching_pair)))\n",
    "            \n",
    "            # Creating actual and predicted ratings Series for MSE calculation\n",
    "            actual_score = pd.Series(1, index=actual_items)\n",
    "            pred_score = pd.Series(1, index=pred_items)\n",
    "            \n",
    "            # Combining actual and predicted items to ensure alignment for MSE calculation\n",
    "            comb_items = actual_score.index.union(pred_score.index)\n",
    "            actual_score = actual_score.reindex(comb_items, fill_value=0)\n",
    "            pred_score = pred_score.reindex(comb_items, fill_value=0)\n",
    "\n",
    "            # Calculating RMSE\n",
    "            rmse = sqrt(mean_squared_error(actual_score, pred_score))\n",
    "            rmse_scores.append(rmse)\n",
    "\n",
    "            # Calculating precision and recall\n",
    "            precision = len(matching_pair) / len(pred_items)\n",
    "            recall = len(matching_pair) / len(actual_items)\n",
    "            precision_list.append(precision)\n",
    "            recall_list.append(recall)\n",
    "        else:\n",
    "            pass\n",
    "            \n",
    "  \n",
    "    return rmse_scores, precision_list, recall_list, successfull_examples, users_with_recommedation\n",
    "\n"
   ]
  },
  {
   "cell_type": "code",
   "execution_count": 20,
   "id": "d39bc081",
   "metadata": {
    "scrolled": true
   },
   "outputs": [
    {
     "name": "stdout",
     "output_type": "stream",
     "text": [
      "Five successfull purchase as per the recommendation are as follows:\n",
      "\n",
      "User ID: 12423.0 was successfully recommended and purchased: ['RED RETROSPOT CHARLOTTE BAG']\n",
      "\n",
      "User ID: 12528.0 was successfully recommended and purchased: ['SET OF 3 CAKE TINS PANTRY DESIGN']\n",
      "\n",
      "User ID: 12553.0 was successfully recommended and purchased: ['STRAWBERRY LUNCH BOX WITH CUTLERY']\n",
      "\n",
      "User ID: 12728.0 was successfully recommended and purchased: [\"POPPY'S PLAYHOUSE BATHROOM\", \"POPPY'S PLAYHOUSE KITCHEN\"]\n",
      "\n",
      "User ID: 12748.0 was successfully recommended and purchased: ['HAND OVER THE CHOCOLATE   SIGN']\n",
      "\n"
     ]
    }
   ],
   "source": [
    "# Example Usage\n",
    "rmse_scores, precision_list, recall_list, successfull_examples, users_with_recommedation = test_recommendation_system(\n",
    "    test_user_item_matrix, train_user_item_matrix, recommend_items_for_customer)\n",
    "\n",
    "\n",
    "print(\"Five successfull purchase as per the recommendation are as follows:\\n\")\n",
    "for example in successfull_examples:\n",
    "    user_id, matched_items = example\n",
    "    print(f\"User ID: {user_id} was successfully recommended and purchased: {matched_items}\\n\")"
   ]
  },
  {
   "cell_type": "markdown",
   "id": "8bbc9be4",
   "metadata": {},
   "source": [
    "Let's check what we recommended the above users"
   ]
  },
  {
   "cell_type": "code",
   "execution_count": 21,
   "id": "0f947826",
   "metadata": {},
   "outputs": [
    {
     "name": "stdout",
     "output_type": "stream",
     "text": [
      "Recommended top 5 items for customer 12423.0 are:\n",
      "['RED RETROSPOT CHARLOTTE BAG', 'WOODLAND CHARLOTTE BAG', 'CHARLOTTE BAG SUKI DESIGN', 'CHARLOTTE BAG PINK POLKADOT', 'LOVE BUILDING BLOCK WORD']\n",
      "\n",
      "Recommended top 5 items for customer 12528.0 are:\n",
      "['CERAMIC CAKE STAND + HANGING CAKES', 'SET OF 3 CAKE TINS PANTRY DESIGN', 'SET OF 4 ENGLISH ROSE PLACEMATS', 'RECIPE BOX PANTRY YELLOW DESIGN', 'APPLE BATH SPONGE']\n",
      "\n",
      "Recommended top 5 items for customer 12553.0 are:\n",
      "[\"POPPY'S PLAYHOUSE LIVINGROOM\", 'RED 3 PIECE RETROSPOT CUTLERY SET', 'STRAWBERRY LUNCH BOX WITH CUTLERY', 'GREEN 3 PIECE POLKADOT CUTLERY SET', 'JUMBO BAG STRAWBERRY']\n",
      "\n",
      "Recommended top 5 items for customer 12728.0 are:\n",
      "[\"POPPY'S PLAYHOUSE KITCHEN\", \"POPPY'S PLAYHOUSE BEDROOM\", 'OFFICE MUG WARMER POLKADOT', \"POPPY'S PLAYHOUSE BATHROOM\", 'COOKING SET RETROSPOT']\n",
      "\n",
      "Recommended top 5 items for customer 12748.0 are:\n",
      "['SET OF 3 HEART COOKIE CUTTERS', 'PACK OF 72 RETROSPOT CAKE CASES', 'HAND OVER THE CHOCOLATE   SIGN', 'RED HANGING HEART T-LIGHT HOLDER', 'BLUE SPOT CERAMIC DRAWER KNOB']\n",
      "\n"
     ]
    }
   ],
   "source": [
    "user_ids_to_check = [12423.0 , 12528.0 , 12553.0 , 12728.0 , 12748.0 ]\n",
    "for user_id in user_ids_to_check:\n",
    "    recommended_items = recommend_items_for_customer(user_id, 5)\n",
    "    print(f\"Recommended top 5 items for customer {user_id} are:\\n{recommended_items}\\n\")"
   ]
  },
  {
   "cell_type": "code",
   "execution_count": 22,
   "id": "e9a691b7",
   "metadata": {},
   "outputs": [],
   "source": [
    "rmse_score = []\n",
    "for rmse in rmse_scores:\n",
    "    if rmse is not None:\n",
    "        rmse_score.append(rmse)\n",
    "avg_rmse = sum(rmse_score) / len(rmse_score)\n",
    "\n",
    "user_coverage = users_with_recommedation / len(test_user_item_matrix)\n",
    "avg_precision = sum(precision_list) / len(precision_list)\n",
    "avg_recall = sum(recall_list) / len(recall_list)"
   ]
  },
  {
   "cell_type": "code",
   "execution_count": 23,
   "id": "0b90e655",
   "metadata": {
    "scrolled": true
   },
   "outputs": [
    {
     "name": "stdout",
     "output_type": "stream",
     "text": [
      "Average RMSE: 0.9900950640987273\n",
      "User Coverage: 0.4277456647398844\n",
      "Average Precision: 0.0801801801801801\n",
      "Average Recall: 0.029545167266316737\n"
     ]
    }
   ],
   "source": [
    "print(f\"Average RMSE: {avg_rmse}\")\n",
    "print(f\"User Coverage: {user_coverage}\")\n",
    "print(f\"Average Precision: {avg_precision}\")\n",
    "print(f\"Average Recall: {avg_recall}\")"
   ]
  },
  {
   "cell_type": "code",
   "execution_count": 24,
   "id": "6f266a82",
   "metadata": {},
   "outputs": [
    {
     "data": {
      "text/html": [
       "<div>\n",
       "<style scoped>\n",
       "    .dataframe tbody tr th:only-of-type {\n",
       "        vertical-align: middle;\n",
       "    }\n",
       "\n",
       "    .dataframe tbody tr th {\n",
       "        vertical-align: top;\n",
       "    }\n",
       "\n",
       "    .dataframe thead th {\n",
       "        text-align: right;\n",
       "    }\n",
       "</style>\n",
       "<table border=\"1\" class=\"dataframe\">\n",
       "  <thead>\n",
       "    <tr style=\"text-align: right;\">\n",
       "      <th></th>\n",
       "      <th>Metrics</th>\n",
       "      <th>Value</th>\n",
       "    </tr>\n",
       "  </thead>\n",
       "  <tbody>\n",
       "    <tr>\n",
       "      <th>0</th>\n",
       "      <td>User Coverage</td>\n",
       "      <td>0.427746</td>\n",
       "    </tr>\n",
       "    <tr>\n",
       "      <th>1</th>\n",
       "      <td>Average Precision</td>\n",
       "      <td>0.080180</td>\n",
       "    </tr>\n",
       "    <tr>\n",
       "      <th>2</th>\n",
       "      <td>Average Recall</td>\n",
       "      <td>0.029545</td>\n",
       "    </tr>\n",
       "    <tr>\n",
       "      <th>3</th>\n",
       "      <td>RMSE</td>\n",
       "      <td>0.990095</td>\n",
       "    </tr>\n",
       "  </tbody>\n",
       "</table>\n",
       "</div>"
      ],
      "text/plain": [
       "             Metrics     Value\n",
       "0      User Coverage  0.427746\n",
       "1  Average Precision  0.080180\n",
       "2     Average Recall  0.029545\n",
       "3               RMSE  0.990095"
      ]
     },
     "execution_count": 24,
     "metadata": {},
     "output_type": "execute_result"
    }
   ],
   "source": [
    "metrics = [user_coverage, avg_precision, avg_recall, avg_rmse]\n",
    "metrics_labels = ['User Coverage', 'Average Precision', 'Average Recall', 'RMSE']\n",
    "\n",
    "metrics_table = pd.DataFrame({\n",
    "    'Metrics':metrics_labels,\n",
    "    'Value': metrics\n",
    "})\n",
    "\n",
    "# Displaying the DataFrame as a table\n",
    "metrics_table"
   ]
  },
  {
   "cell_type": "markdown",
   "id": "0c11c8f0",
   "metadata": {},
   "source": [
    "### 7. Reference\n",
    "\n",
    "https://pandas.pydata.org/pandas-docs/stable/reference/api/pandas.Series.dt.day_name.html\n",
    "    \n",
    "https://pandas.pydata.org/pandas-docs/stable/reference/api/pandas.DataFrame.groupby.html\n",
    "    \n",
    "https://numpy.org/doc/stable/reference/generated/numpy.arange.html\n",
    "\n",
    "https://pandas.pydata.org/docs/reference/api/pandas.pivot_table.html\n",
    "\n",
    "https://docs.scipy.org/doc/scipy/reference/generated/scipy.sparse.csr_matrix.html\n",
    "\n",
    "https://pandas.pydata.org/pandas-docs/stable/reference/api/pandas.Series.html\n",
    "\n",
    "https://scikit-learn.org/stable/modules/generated/sklearn.metrics.pairwise.cosine_similarity.html\n",
    "\n",
    "Wrokshop for understanding the methods"
   ]
  }
 ],
 "metadata": {
  "kernelspec": {
   "display_name": "Python 3 (ipykernel)",
   "language": "python",
   "name": "python3"
  },
  "language_info": {
   "codemirror_mode": {
    "name": "ipython",
    "version": 3
   },
   "file_extension": ".py",
   "mimetype": "text/x-python",
   "name": "python",
   "nbconvert_exporter": "python",
   "pygments_lexer": "ipython3",
   "version": "3.10.9"
  }
 },
 "nbformat": 4,
 "nbformat_minor": 5
}
